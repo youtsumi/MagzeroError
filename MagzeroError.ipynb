{
 "cells": [
  {
   "cell_type": "markdown",
   "metadata": {},
   "source": [
    "少数しか reference がないときの測光誤差をどう考えたらいいか考えてみた．\n",
    "\n",
    "モックデータとしてなんとなく星のナンバーカウントのようなものを作る．"
   ]
  },
  {
   "cell_type": "code",
   "execution_count": 1,
   "metadata": {},
   "outputs": [
    {
     "data": {
      "text/plain": [
       "<Figure size 640x480 with 1 Axes>"
      ]
     },
     "metadata": {},
     "output_type": "display_data"
    }
   ],
   "source": [
    "import numpy\n",
    "import pylab\n",
    "sample = numpy.random.power(a=10,size=10000)*20\n",
    "pylab.hist(sample)\n",
    "pylab.xlabel(\"Magnitude\")\n",
    "pylab.ylabel(\"dN/dm\")\n",
    "pylab.semilogy()\n",
    "pylab.show()"
   ]
  },
  {
   "cell_type": "markdown",
   "metadata": {},
   "source": [
    "その中から Nayuta の観測と同じように数個 (nchoice) の星を選んで，適当にそれっぽく見えるエラーをつける．縦も横もそれで振る．ここではカタログ等級のほうが5倍悪いことにしている．"
   ]
  },
  {
   "cell_type": "code",
   "execution_count": 2,
   "metadata": {},
   "outputs": [
    {
     "data": {
      "text/plain": [
       "(20.49110390549074, 15.256858471846686)"
      ]
     },
     "execution_count": 2,
     "metadata": {},
     "output_type": "execute_result"
    },
    {
     "data": {
      "image/png": "[encoded data removed]",
      "text/plain": [
       "<Figure size 432x288 with 1 Axes>"
      ]
     },
     "metadata": {
      "needs_background": "light"
     },
     "output_type": "display_data"
    }
   ],
   "source": [
    "nchoice=5\n",
    "gain = 1e-10\n",
    "mag = numpy.random.choice(sample,nchoice)\n",
    "err= numpy.sqrt(10**(-0.4*mag)/gain)*gain\n",
    "mag_err=mag+2.5*numpy.log10(10**(-0.4*(mag))+err)\n",
    "mag_inst = -2.5*numpy.log10(10**(-0.4*mag)+numpy.random.randn(nchoice)*err)\n",
    "mag_cat = -2.5*numpy.log10(10**(-0.4*mag)+5.*numpy.random.randn(nchoice)*err)\n",
    "mag, mag_inst\n",
    "\n",
    "magmax=1.01*max(mag_cat.max(),mag_inst.max())\n",
    "magmin=0.99*min(mag_cat.min(),mag_inst.min())\n",
    "x=numpy.arange(magmin,magmax,0.1)\n",
    "pylab.plot(x,x,\"-\")\n",
    "pylab.errorbar(mag_cat,mag_inst,yerr=5*mag_err,fmt=\"o\")\n",
    "pylab.xlim(magmax,magmin)\n",
    "pylab.ylim(magmax,magmin)\n"
   ]
  },
  {
   "cell_type": "markdown",
   "metadata": {},
   "source": [
    "やっと準備が整った．なんとなくそれっぽく見えるので，これを使って測光原点を決めてみる．\n",
    "測光原点は 0 のはずで，測光原点のエラーは bootstrap で求める．"
   ]
  },
  {
   "cell_type": "code",
   "execution_count": 3,
   "metadata": {},
   "outputs": [
    {
     "name": "stdout",
     "output_type": "stream",
     "text": [
      "Error on zero = 0.172585, Bias on zero = -0.180424\n"
     ]
    },
    {
     "data": {
      "text/plain": [
       "Text(0.5,0,'Magzero Error')"
      ]
     },
     "execution_count": 3,
     "metadata": {},
     "output_type": "execute_result"
    },
    {
     "data": {
      "image/png": "[encoded data removed]",
      "text/plain": [
       "<Figure size 432x288 with 1 Axes>"
      ]
     },
     "metadata": {
      "needs_background": "light"
     },
     "output_type": "display_data"
    }
   ],
   "source": [
    "import scipy.optimize\n",
    "def f(x,b):\n",
    "    return x+b\n",
    "\n",
    "barry = []\n",
    "for i in range(1000):\n",
    "    idx = numpy.random.choice(range(len(mag_cat)),len(mag_cat))\n",
    "    b,ber=scipy.optimize.curve_fit(f,mag_cat[idx],mag_inst[idx])\n",
    "    barry.append(b)\n",
    "barry = numpy.array(barry)\n",
    "print \"Error on zero = %f, Bias on zero = %f\" % (barry.std(ddof=1), barry.mean() )\n",
    "pylab.hist(barry)\n",
    "pylab.xlabel(\"Magzero Error\")"
   ]
  },
  {
   "cell_type": "markdown",
   "metadata": {},
   "source": [
    "異なる realization で測光原点誤差の分布がどうなるかを調べる．"
   ]
  },
  {
   "cell_type": "code",
   "execution_count": 4,
   "metadata": {},
   "outputs": [
    {
     "name": "stderr",
     "output_type": "stream",
     "text": [
      "/Users/yutsumi/anaconda2/lib/python2.7/site-packages/ipykernel_launcher.py:11: RuntimeWarning: invalid value encountered in log10\n",
      "  # This is added back by InteractiveShellApp.init_path()\n"
     ]
    },
    {
     "data": {
      "text/plain": [
       "<matplotlib.legend.Legend at 0x11bf9fe90>"
      ]
     },
     "execution_count": 4,
     "metadata": {},
     "output_type": "execute_result"
    },
    {
     "data": {
      "image/png": "[encoded data removed]",
      "text/plain": [
       "<Figure size 432x288 with 1 Axes>"
      ]
     },
     "metadata": {
      "needs_background": "light"
     },
     "output_type": "display_data"
    }
   ],
   "source": [
    "for nchoice in [3,5,10]:\n",
    "    bstd = []\n",
    "    bmean = []\n",
    "    for j in range(100):\n",
    "        try:\n",
    "            # draw a number of nchoice of samples, and calculate mag, mag_err, mag_cat, mag_inst ....\n",
    "            mag = numpy.random.choice(sample,nchoice)\n",
    "            err= numpy.sqrt(10**(-0.4*mag)/gain)*gain\n",
    "            mag_err=mag+2.5*numpy.log10(10**(-0.4*(mag))+err)\n",
    "            mag_inst = -2.5*numpy.log10(10**(-0.4*mag)+numpy.random.randn(nchoice)*err)\n",
    "            mag_cat = -2.5*numpy.log10(10**(-0.4*mag)+5.*numpy.random.randn(nchoice)*err)\n",
    "\n",
    "            # do magzero calculation on bootstrap samples assuming linearity is well enough\n",
    "            barry = []\n",
    "            for i in range(1000):\n",
    "                idx = numpy.random.choice(range(len(mag_cat)),len(mag_cat))\n",
    "                b,ber=scipy.optimize.curve_fit(f,mag_cat[idx],mag_inst[idx])\n",
    "                barry.append(b)\n",
    "            barry = numpy.array(barry)\n",
    "#            print \"Error on zero = %f, Bias on zero = %f\" % (barry.std(), barry.mean() )\n",
    "            bstd.append(barry.std(ddof=1))\n",
    "            bmean.append(barry.mean())\n",
    "        except:\n",
    "            pass\n",
    "    bstd = numpy.array(bstd)\n",
    "    bmean = numpy.array(bmean)\n",
    "    pylab.hist(bstd,label=r\"$%d, %.2f\\pm%.2f$\"%(nchoice, numpy.median(bstd),numpy.std(bstd)),\n",
    "               range=(0,1),bins=20,alpha=0.5)\n",
    "pylab.xlabel(\"Magzero Error\")\n",
    "pylab.legend()"
   ]
  },
  {
   "cell_type": "markdown",
   "metadata": {},
   "source": [
    "1. Bootstrap サンプリングをすれば測光原点のばらつきが求められる．（上図凡例内に記載）\n",
    "\n",
    "2. 同じサンプルを使っているのでばらつきの真値は同じはずで，およそ 0.1 前後に収束しているように見える．\n",
    "\n",
    "3. 5点 bootstrap を使っても，例えば一回の realization で 0.17 等級と決まっていて（本当の値は~0.1だけど），これをサンプル数の平方根 ($\\sqrt{5}$) で割ると 0.07 等級．決まった測光原点の誤差はこれくらい．"
   ]
  }
 ],
 "metadata": {
  "kernelspec": {
   "display_name": "Python 2",
   "language": "python",
   "name": "python2"
  },
  "language_info": {
   "codemirror_mode": {
    "name": "ipython",
    "version": 2
   },
   "file_extension": ".py",
   "mimetype": "text/x-python",
   "name": "python",
   "nbconvert_exporter": "python",
   "pygments_lexer": "ipython2",
   "version": "2.7.15"
  }
 },
 "nbformat": 4,
 "nbformat_minor": 2
}
